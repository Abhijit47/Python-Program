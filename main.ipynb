{
 "cells": [
  {
   "cell_type": "markdown",
   "metadata": {},
   "source": [
    "Q. Write a program to find those numbers which are divisible by 15 and multiple of 5, between 10 and 150"
   ]
  },
  {
   "cell_type": "code",
   "execution_count": 4,
   "metadata": {},
   "outputs": [
    {
     "name": "stdout",
     "output_type": "stream",
     "text": [
      "Number is divisible by 15 and multiple of 5\n"
     ]
    }
   ],
   "source": [
    "num = int(input(\"Enter a number to check: \"))\n",
    "if num % 15 == 0 and num % 5 == 0:\n",
    "    print(\"Number is divisible by 15 and multiple of 5\")\n",
    "else:\n",
    "    print(\"Number is not divisible by 15 and multiple of 5\")\n",
    "    \n",
    "    \n",
    "#105 is divisible by 15 and multiple of 5"
   ]
  }
 ],
 "metadata": {
  "kernelspec": {
   "display_name": "Python 3.10.6 64-bit",
   "language": "python",
   "name": "python3"
  },
  "language_info": {
   "codemirror_mode": {
    "name": "ipython",
    "version": 3
   },
   "file_extension": ".py",
   "mimetype": "text/x-python",
   "name": "python",
   "nbconvert_exporter": "python",
   "pygments_lexer": "ipython3",
   "version": "3.10.6"
  },
  "orig_nbformat": 4,
  "vscode": {
   "interpreter": {
    "hash": "369f2c481f4da34e4445cda3fffd2e751bd1c4d706f27375911949ba6bb62e1c"
   }
  }
 },
 "nbformat": 4,
 "nbformat_minor": 2
}
